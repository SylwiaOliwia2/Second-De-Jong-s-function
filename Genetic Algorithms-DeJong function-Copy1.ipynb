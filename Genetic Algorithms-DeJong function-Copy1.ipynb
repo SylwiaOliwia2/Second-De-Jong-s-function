{
 "cells": [
  {
   "cell_type": "markdown",
   "metadata": {},
   "source": [
    "Based on code: http://lethain.com/genetic-algorithms-cool-name-damn-simple/"
   ]
  },
  {
   "cell_type": "markdown",
   "metadata": {},
   "source": [
    "Function to solve: http://www.geatbx.com/docu/fcnindex-01.html#P129_5426"
   ]
  },
  {
   "cell_type": "code",
   "execution_count": 2,
   "metadata": {
    "collapsed": false
   },
   "outputs": [],
   "source": [
    "from random import randint, random\n",
    "from operator import add\n",
    "from functools import reduce\n",
    "from numpy.random import choice\n",
    "import string\n",
    "import numpy as np\n",
    "import math"
   ]
  },
  {
   "cell_type": "markdown",
   "metadata": {},
   "source": [
    "#### Create member of population and population "
   ]
  },
  {
   "cell_type": "code",
   "execution_count": 3,
   "metadata": {
    "collapsed": false
   },
   "outputs": [],
   "source": [
    "def individual(min, max):\n",
    "     return [ randint(min,max) for x in range(2)] #range(2) for 2 parameters"
   ]
  },
  {
   "cell_type": "code",
   "execution_count": 4,
   "metadata": {
    "collapsed": true
   },
   "outputs": [],
   "source": [
    "def population(count, min, max):\n",
    "    return[individual(min, max) for x in range(count)]"
   ]
  },
  {
   "cell_type": "markdown",
   "metadata": {},
   "source": [
    "#### Fitness function "
   ]
  },
  {
   "cell_type": "markdown",
   "metadata": {},
   "source": [
    "Searching for local minimum in space [-2.047;2.047]"
   ]
  },
  {
   "cell_type": "code",
   "execution_count": 6,
   "metadata": {
    "collapsed": false
   },
   "outputs": [],
   "source": [
    "def fitness(individual): #fitness function\n",
    "    fx=(100*pow((pow(individual[0]*0.001,2))-individual[1]*0.001,2)\n",
    "    +pow((1-individual[0]*0.001),2))\n",
    "    return fx "
   ]
  },
  {
   "cell_type": "markdown",
   "metadata": {},
   "source": [
    "#### Population parameters "
   ]
  },
  {
   "cell_type": "code",
   "execution_count": 9,
   "metadata": {
    "collapsed": true
   },
   "outputs": [],
   "source": [
    "def grade(pop): #average fitness for each individual\n",
    "    summed= reduce(add, (fitness(x) for x in pop),0)\n",
    "    return(summed/(len(pop)*1.0))"
   ]
  },
  {
   "cell_type": "markdown",
   "metadata": {},
   "source": [
    "#### new population of parents - roulette selection"
   ]
  },
  {
   "cell_type": "code",
   "execution_count": 10,
   "metadata": {
    "collapsed": true
   },
   "outputs": [],
   "source": [
    "def roulette_selection(lista):\n",
    "    fitness_values = [ (fitness(x),x) for x in lista] #fit function and individual\n",
    "    \n",
    "    def rank(value):\n",
    "        return (1/math.sqrt(value)) # we will use this rank function in roulette to reduce hudge distproportions \n",
    "                                    # between fitness values for different individuals. This leads to bigger \n",
    "                                    # variation of individuals in the next population\n",
    "    \n",
    "    fitness_sum = sum(rank(fit) for fit,x in fitness_values)\n",
    "    weights =[rank(fit)/fitness_sum for fit,x in fitness_values]\n",
    "    parents_length=len(weights)\n",
    "    parents_indicator = choice(range(parents_length),int(parents_length),p=weights) \n",
    "    selected_parents=[fitness_values[i][1] for i in parents_indicator]\n",
    "    return (selected_parents)"
   ]
  },
  {
   "cell_type": "code",
   "execution_count": 11,
   "metadata": {
    "collapsed": true
   },
   "outputs": [],
   "source": [
    "def convert_to_binary(data, bit_length):\n",
    "    return [(format(x,bit_length),format(y,bit_length)) for x,y in data]"
   ]
  },
  {
   "cell_type": "code",
   "execution_count": 12,
   "metadata": {
    "collapsed": true
   },
   "outputs": [],
   "source": [
    "def convert_to_integer(child):\n",
    "    return [int(child[0],2),int(child[1],2)]"
   ]
  },
  {
   "cell_type": "markdown",
   "metadata": {},
   "source": [
    "## Breeding & mutation rules "
   ]
  },
  {
   "cell_type": "code",
   "execution_count": 14,
   "metadata": {
    "collapsed": false
   },
   "outputs": [],
   "source": [
    "def evolve(pop, retain=0.2, mutate=0.1):\n",
    "    \n",
    "    graded=sorted(pop, key=fitness)\n",
    "    retain_length = int(len(graded)*retain) #select individuals with the best fitness to stay unchanged\n",
    "    \n",
    "    ### retain some parents\n",
    "    retained_parents=[]\n",
    "    retained_parents = graded[:retain_length] \n",
    "    not_retained_parents = graded[retain_length:]\n",
    "    \n",
    "    new_parents=roulette_selection(not_retained_parents)\n",
    "    new_parents_binary=convert_to_binary(new_parents,bit_length=\"014b\")\n",
    "    \n",
    "    ### assig create split point (to binary crossover) for each parent\n",
    "    n_of_bits=len(new_parents_binary[0][0])\n",
    "    length_new_parents=len(new_parents)\n",
    "    split_point=choice(n_of_bits-4,size=int(length_new_parents/2),replace=True)+2 \n",
    "\n",
    "    # if we have odd number of new parents, take middle value and append to parents_to retain\n",
    "    if (int(length_new_parents/2))%1!=0:\n",
    "        to_append=new_parents_binary[int(length_new_parents/2)+1]\n",
    "        to_append=[int(to_append[0],2),int(to_append[1],2)]\n",
    "        retained_parents.append(to_append)\n",
    "        \n",
    "    # take the rest of new parents to crossover\n",
    "    for i in range(int(length_new_parents/2)):\n",
    "        parent1,parent2=new_parents_binary[i-1],new_parents_binary[length_new_parents-i-1] #take first and last parent\n",
    "        child1=(parent1[0][:split_point[i]]+parent2[0][split_point[i]:],parent1[1][:split_point[i]]+parent2[1][split_point[i]:])\n",
    "        child2=(parent2[0][:split_point[i]]+parent1[0][split_point[i]:],parent2[1][:split_point[i]]+parent1[1][split_point[i]:])\n",
    "        \n",
    "        # mutate with proabbility=\"mutate\"\n",
    "        if choice([0,1], 1, p=[1-mutate,mutate])==1:            \n",
    "            index1=randint(3,n_of_bits-1)\n",
    "            child1=(child1[0][:index1] + str(\"1\") + child1[0][index1 + 1:],child1[1]) # change only 1st. element of 1st. child\n",
    "        if choice([0,1], 1, p=[1-mutate,mutate])==1:\n",
    "            index2=randint(3,n_of_bits-1)      \n",
    "            child2=(child2[0],child2[1][:index2] + str(\"1\") + child2[1][index2 + 1:])# change only 2st. element of 2st. child\n",
    "        \n",
    "        #change to integer\n",
    "        int_child1=convert_to_integer(child1)\n",
    "        int_child2=convert_to_integer(child2)      \n",
    "        retained_parents.append(int_child1)\n",
    "        retained_parents.append(int_child2)\n",
    "    return (retained_parents)"
   ]
  },
  {
   "cell_type": "markdown",
   "metadata": {},
   "source": [
    "## Run algorithm to find minimum fitness value\n"
   ]
  },
  {
   "cell_type": "code",
   "execution_count": 30,
   "metadata": {
    "collapsed": false
   },
   "outputs": [
    {
     "name": "stdout",
     "output_type": "stream",
     "text": [
      "567.0294152199912\n",
      "351.29694049839605\n",
      "266.72014377383397\n",
      "208.507670105486\n",
      "131.56894369997997\n",
      "116.114915041199\n",
      "52.848899260728\n",
      "48.89024155834\n",
      "37.070528656501004\n",
      "33.79844594548099\n",
      "20.135768775313\n",
      "16.821007530966995\n",
      "23.492801684151996\n",
      "31.627546321295995\n",
      "13.641337201808994\n",
      "18.546115167520995\n",
      "8.827443786813998\n",
      "6.257342803646\n",
      "8.053826349056997\n",
      "3.7543668617470014\n",
      "11.441389926542998\n",
      "13.444912033169997\n",
      "4.155568656702\n",
      "4.75248770665\n",
      "1.3510228918210005\n",
      "2.257861841259001\n",
      "1.4877595329000004\n",
      "2.660318980008999\n",
      "5.342660315085001\n",
      "2.1005439751339994\n",
      "1.7275543867569991\n",
      "\n",
      "Minimum found value:  0.005140999999999994\n",
      "\n",
      "Individual of minimum value:  [990, 973]\n"
     ]
    }
   ],
   "source": [
    "n_of_individuals = 100 #number of individuals in population\n",
    "i_min = -2047 # min value of individual\n",
    "i_max = 2047  # max value of individual\n",
    "n_of_iteretions = 30\n",
    "p = population(n_of_individuals, i_min, i_max)\n",
    "fitness_history = [grade(p),]\n",
    "for i in range(n_of_iteretions):\n",
    "    populacja = p\n",
    "    p = evolve(p)\n",
    "    fitness_history.append(grade(p))\n",
    "    \n",
    "for avg_fitness in fitness_history:\n",
    "    print (avg_fitness)\n",
    "print(\"\\nMinimum found value: \" ,fitness(p[0]))\n",
    "print(\"\\nIndividual of minimum value: \" ,p[0])"
   ]
  },
  {
   "cell_type": "markdown",
   "metadata": {
    "collapsed": true
   },
   "source": [
    "#### Actual minimum at point: [1,1], minimum value = 0 "
   ]
  },
  {
   "cell_type": "markdown",
   "metadata": {},
   "source": [
    "More: http://www.geatbx.com/docu/fcnindex-01.html#P129_5426"
   ]
  }
 ],
 "metadata": {
  "kernelspec": {
   "display_name": "Python [default]",
   "language": "python",
   "name": "python3"
  },
  "language_info": {
   "codemirror_mode": {
    "name": "ipython",
    "version": 3
   },
   "file_extension": ".py",
   "mimetype": "text/x-python",
   "name": "python",
   "nbconvert_exporter": "python",
   "pygments_lexer": "ipython3",
   "version": "3.5.2"
  }
 },
 "nbformat": 4,
 "nbformat_minor": 0
}
